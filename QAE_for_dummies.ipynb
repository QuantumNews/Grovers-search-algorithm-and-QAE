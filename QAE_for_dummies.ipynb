{
  "nbformat": 4,
  "nbformat_minor": 0,
  "metadata": {
    "colab": {
      "name": "QAE_for_dummies.ipynb",
      "provenance": [],
      "collapsed_sections": [],
      "authorship_tag": "ABX9TyPd3nHIG3qCMgK8LVI+wLLI",
      "include_colab_link": true
    },
    "kernelspec": {
      "name": "python3",
      "display_name": "Python 3"
    },
    "language_info": {
      "name": "python"
    }
  },
  "cells": [
    {
      "cell_type": "markdown",
      "metadata": {
        "id": "view-in-github",
        "colab_type": "text"
      },
      "source": [
        "<a href=\"https://colab.research.google.com/github/QuantumNews/Grovers-search-algorithm-and-QAE/blob/main2/QAE_for_dummies.ipynb\" target=\"_parent\"><img src=\"https://colab.research.google.com/assets/colab-badge.svg\" alt=\"Open In Colab\"/></a>"
      ]
    },
    {
      "cell_type": "code",
      "execution_count": null,
      "metadata": {
        "colab": {
          "base_uri": "https://localhost:8080/"
        },
        "id": "pSFGVplFXqG1",
        "outputId": "41cdfdaa-1d7e-4590-94c9-95f515e7d97f"
      },
      "outputs": [
        {
          "output_type": "stream",
          "name": "stdout",
          "text": [
            "Collecting qiskit\n",
            "  Downloading qiskit-0.34.2.tar.gz (13 kB)\n",
            "\u001b[33mWARNING: Retrying (Retry(total=4, connect=None, read=None, redirect=None, status=None)) after connection broken by 'ProtocolError('Connection aborted.', ConnectionResetError(104, 'Connection reset by peer'))': /simple/qiskit-terra/\u001b[0m\n",
            "Collecting qiskit-terra==0.19.2\n",
            "  Downloading qiskit_terra-0.19.2-cp37-cp37m-manylinux_2_12_x86_64.manylinux2010_x86_64.whl (6.5 MB)\n",
            "\u001b[K     |████████████████████████████████| 6.5 MB 7.7 MB/s \n",
            "\u001b[?25hCollecting qiskit-aer==0.10.3\n",
            "  Downloading qiskit_aer-0.10.3-cp37-cp37m-manylinux_2_12_x86_64.manylinux2010_x86_64.whl (18.0 MB)\n",
            "\u001b[K     |████████████████████████████████| 18.0 MB 63 kB/s \n",
            "\u001b[?25hCollecting qiskit-ibmq-provider==0.18.3\n",
            "  Downloading qiskit_ibmq_provider-0.18.3-py3-none-any.whl (238 kB)\n",
            "\u001b[K     |████████████████████████████████| 238 kB 45.6 MB/s \n",
            "\u001b[?25hCollecting qiskit-ignis==0.7.0\n",
            "  Downloading qiskit_ignis-0.7.0-py3-none-any.whl (200 kB)\n",
            "\u001b[K     |████████████████████████████████| 200 kB 47.7 MB/s \n",
            "\u001b[?25hRequirement already satisfied: scipy>=1.0 in /usr/local/lib/python3.7/dist-packages (from qiskit-aer==0.10.3->qiskit) (1.4.1)\n",
            "Requirement already satisfied: numpy>=1.16.3 in /usr/local/lib/python3.7/dist-packages (from qiskit-aer==0.10.3->qiskit) (1.19.5)\n",
            "Collecting websocket-client>=1.0.1\n",
            "  Downloading websocket_client-1.2.3-py3-none-any.whl (53 kB)\n",
            "\u001b[K     |████████████████████████████████| 53 kB 1.9 MB/s \n",
            "\u001b[?25hRequirement already satisfied: urllib3>=1.21.1 in /usr/local/lib/python3.7/dist-packages (from qiskit-ibmq-provider==0.18.3->qiskit) (1.24.3)\n",
            "Requirement already satisfied: python-dateutil>=2.8.0 in /usr/local/lib/python3.7/dist-packages (from qiskit-ibmq-provider==0.18.3->qiskit) (2.8.2)\n",
            "Requirement already satisfied: requests>=2.19 in /usr/local/lib/python3.7/dist-packages (from qiskit-ibmq-provider==0.18.3->qiskit) (2.23.0)\n",
            "Collecting requests-ntlm>=1.1.0\n",
            "  Downloading requests_ntlm-1.1.0-py2.py3-none-any.whl (5.7 kB)\n",
            "Requirement already satisfied: setuptools>=40.1.0 in /usr/local/lib/python3.7/dist-packages (from qiskit-ignis==0.7.0->qiskit) (57.4.0)\n",
            "Collecting retworkx>=0.8.0\n",
            "  Downloading retworkx-0.11.0-cp37-cp37m-manylinux_2_5_x86_64.manylinux1_x86_64.manylinux_2_12_x86_64.manylinux2010_x86_64.whl (1.6 MB)\n",
            "\u001b[K     |████████████████████████████████| 1.6 MB 30.9 MB/s \n",
            "\u001b[?25hCollecting tweedledum<2.0,>=1.1\n",
            "  Downloading tweedledum-1.1.1-cp37-cp37m-manylinux_2_12_x86_64.manylinux2010_x86_64.whl (943 kB)\n",
            "\u001b[K     |████████████████████████████████| 943 kB 52.0 MB/s \n",
            "\u001b[?25hCollecting symengine>=0.8\n",
            "  Downloading symengine-0.8.1-cp37-cp37m-manylinux2010_x86_64.whl (38.2 MB)\n",
            "\u001b[K     |████████████████████████████████| 38.2 MB 1.1 MB/s \n",
            "\u001b[?25hCollecting python-constraint>=1.4\n",
            "  Downloading python-constraint-1.4.0.tar.bz2 (18 kB)\n",
            "Collecting ply>=3.10\n",
            "  Downloading ply-3.11-py2.py3-none-any.whl (49 kB)\n",
            "\u001b[K     |████████████████████████████████| 49 kB 6.8 MB/s \n",
            "\u001b[?25hRequirement already satisfied: psutil>=5 in /usr/local/lib/python3.7/dist-packages (from qiskit-terra==0.19.2->qiskit) (5.4.8)\n",
            "Requirement already satisfied: dill>=0.3 in /usr/local/lib/python3.7/dist-packages (from qiskit-terra==0.19.2->qiskit) (0.3.4)\n",
            "Collecting scipy>=1.0\n",
            "  Downloading scipy-1.7.3-cp37-cp37m-manylinux_2_12_x86_64.manylinux2010_x86_64.whl (38.1 MB)\n",
            "\u001b[K     |████████████████████████████████| 38.1 MB 1.2 MB/s \n",
            "\u001b[?25hRequirement already satisfied: sympy>=1.3 in /usr/local/lib/python3.7/dist-packages (from qiskit-terra==0.19.2->qiskit) (1.7.1)\n",
            "Collecting stevedore>=3.0.0\n",
            "  Downloading stevedore-3.5.0-py3-none-any.whl (49 kB)\n",
            "\u001b[K     |████████████████████████████████| 49 kB 7.0 MB/s \n",
            "\u001b[?25hRequirement already satisfied: six>=1.5 in /usr/local/lib/python3.7/dist-packages (from python-dateutil>=2.8.0->qiskit-ibmq-provider==0.18.3->qiskit) (1.15.0)\n",
            "Requirement already satisfied: idna<3,>=2.5 in /usr/local/lib/python3.7/dist-packages (from requests>=2.19->qiskit-ibmq-provider==0.18.3->qiskit) (2.10)\n",
            "Requirement already satisfied: chardet<4,>=3.0.2 in /usr/local/lib/python3.7/dist-packages (from requests>=2.19->qiskit-ibmq-provider==0.18.3->qiskit) (3.0.4)\n",
            "Requirement already satisfied: certifi>=2017.4.17 in /usr/local/lib/python3.7/dist-packages (from requests>=2.19->qiskit-ibmq-provider==0.18.3->qiskit) (2021.10.8)\n",
            "Collecting ntlm-auth>=1.0.2\n",
            "  Downloading ntlm_auth-1.5.0-py2.py3-none-any.whl (29 kB)\n",
            "Collecting cryptography>=1.3\n",
            "  Downloading cryptography-36.0.1-cp36-abi3-manylinux_2_24_x86_64.whl (3.6 MB)\n",
            "\u001b[K     |████████████████████████████████| 3.6 MB 40.4 MB/s \n",
            "\u001b[?25hRequirement already satisfied: cffi>=1.12 in /usr/local/lib/python3.7/dist-packages (from cryptography>=1.3->requests-ntlm>=1.1.0->qiskit-ibmq-provider==0.18.3->qiskit) (1.15.0)\n",
            "Requirement already satisfied: pycparser in /usr/local/lib/python3.7/dist-packages (from cffi>=1.12->cryptography>=1.3->requests-ntlm>=1.1.0->qiskit-ibmq-provider==0.18.3->qiskit) (2.21)\n",
            "Collecting pbr!=2.1.0,>=2.0.0\n",
            "  Downloading pbr-5.8.1-py2.py3-none-any.whl (113 kB)\n",
            "\u001b[K     |████████████████████████████████| 113 kB 66.2 MB/s \n",
            "\u001b[?25hRequirement already satisfied: importlib-metadata>=1.7.0 in /usr/local/lib/python3.7/dist-packages (from stevedore>=3.0.0->qiskit-terra==0.19.2->qiskit) (4.10.1)\n",
            "Requirement already satisfied: typing-extensions>=3.6.4 in /usr/local/lib/python3.7/dist-packages (from importlib-metadata>=1.7.0->stevedore>=3.0.0->qiskit-terra==0.19.2->qiskit) (3.10.0.2)\n",
            "Requirement already satisfied: zipp>=0.5 in /usr/local/lib/python3.7/dist-packages (from importlib-metadata>=1.7.0->stevedore>=3.0.0->qiskit-terra==0.19.2->qiskit) (3.7.0)\n",
            "Requirement already satisfied: mpmath>=0.19 in /usr/local/lib/python3.7/dist-packages (from sympy>=1.3->qiskit-terra==0.19.2->qiskit) (1.2.1)\n",
            "Building wheels for collected packages: qiskit, python-constraint\n",
            "  Building wheel for qiskit (setup.py) ... \u001b[?25l\u001b[?25hdone\n",
            "  Created wheel for qiskit: filename=qiskit-0.34.2-py3-none-any.whl size=11805 sha256=3c11eb5bdd5c1ee8c1ec502214e88b73d4d08bd230e50c297d581108e98024b6\n",
            "  Stored in directory: /root/.cache/pip/wheels/62/77/65/cda6eedfdd2a525bd3f479a4386930ae3088a1eb01f8c944ed\n",
            "  Building wheel for python-constraint (setup.py) ... \u001b[?25l\u001b[?25hdone\n",
            "  Created wheel for python-constraint: filename=python_constraint-1.4.0-py2.py3-none-any.whl size=24081 sha256=9ea4ce9cbd09b4cfa252d57faf73041ad983b901091b26ede0bfe0c320123c4f\n",
            "  Stored in directory: /root/.cache/pip/wheels/07/27/db/1222c80eb1e431f3d2199c12569cb1cac60f562a451fe30479\n",
            "Successfully built qiskit python-constraint\n",
            "Installing collected packages: pbr, tweedledum, symengine, stevedore, scipy, retworkx, python-constraint, ply, ntlm-auth, cryptography, websocket-client, requests-ntlm, qiskit-terra, qiskit-ignis, qiskit-ibmq-provider, qiskit-aer, qiskit\n",
            "  Attempting uninstall: scipy\n",
            "    Found existing installation: scipy 1.4.1\n",
            "    Uninstalling scipy-1.4.1:\n",
            "      Successfully uninstalled scipy-1.4.1\n",
            "\u001b[31mERROR: pip's dependency resolver does not currently take into account all the packages that are installed. This behaviour is the source of the following dependency conflicts.\n",
            "albumentations 0.1.12 requires imgaug<0.2.7,>=0.2.5, but you have imgaug 0.2.9 which is incompatible.\u001b[0m\n",
            "Successfully installed cryptography-36.0.1 ntlm-auth-1.5.0 pbr-5.8.1 ply-3.11 python-constraint-1.4.0 qiskit-0.34.2 qiskit-aer-0.10.3 qiskit-ibmq-provider-0.18.3 qiskit-ignis-0.7.0 qiskit-terra-0.19.2 requests-ntlm-1.1.0 retworkx-0.11.0 scipy-1.7.3 stevedore-3.5.0 symengine-0.8.1 tweedledum-1.1.1 websocket-client-1.2.3\n"
          ]
        }
      ],
      "source": [
        "!pip3 install qiskit\n"
      ]
    },
    {
      "cell_type": "code",
      "source": [
        "\n",
        "p = 0.2\n",
        "\n",
        "import numpy as np\n",
        "from qiskit.circuit import QuantumCircuit\n",
        "\n",
        "\n",
        "class BernoulliA(QuantumCircuit):\n",
        "    \"\"\"A circuit representing the Bernoulli A operator.\"\"\"\n",
        "\n",
        "    def __init__(self, probability):\n",
        "        super().__init__(1)  # circuit on 1 qubit\n",
        "\n",
        "        theta_p = 2 * np.arcsin(np.sqrt(probability))\n",
        "        self.ry(theta_p, 0)\n",
        "\n",
        "\n",
        "class BernoulliQ(QuantumCircuit):\n",
        "    \"\"\"A circuit representing the Bernoulli Q operator.\"\"\"\n",
        "\n",
        "    def __init__(self, probability):\n",
        "        super().__init__(1)  # circuit on 1 qubit\n",
        "\n",
        "        self._theta_p = 2 * np.arcsin(np.sqrt(probability))\n",
        "        self.ry(2 * self._theta_p, 0)\n",
        "\n",
        "    def power(self, k):\n",
        "        # implement the efficient power of Q\n",
        "        q_k = QuantumCircuit(1)\n",
        "        q_k.ry(2 * k * self._theta_p, 0)\n",
        "        return q_k\n"
      ],
      "metadata": {
        "id": "ee6fSyxtYmb5",
        "colab": {
          "base_uri": "https://localhost:8080/",
          "height": 374
        },
        "outputId": "0b688874-5fbb-480e-ea78-39a724eeeb60"
      },
      "execution_count": null,
      "outputs": [
        {
          "output_type": "error",
          "ename": "ModuleNotFoundError",
          "evalue": "ignored",
          "traceback": [
            "\u001b[0;31m---------------------------------------------------------------------------\u001b[0m",
            "\u001b[0;31mModuleNotFoundError\u001b[0m                       Traceback (most recent call last)",
            "\u001b[0;32m<ipython-input-1-41c51597410e>\u001b[0m in \u001b[0;36m<module>\u001b[0;34m()\u001b[0m\n\u001b[1;32m      3\u001b[0m \u001b[0;34m\u001b[0m\u001b[0m\n\u001b[1;32m      4\u001b[0m \u001b[0;32mimport\u001b[0m \u001b[0mnumpy\u001b[0m \u001b[0;32mas\u001b[0m \u001b[0mnp\u001b[0m\u001b[0;34m\u001b[0m\u001b[0;34m\u001b[0m\u001b[0m\n\u001b[0;32m----> 5\u001b[0;31m \u001b[0;32mfrom\u001b[0m \u001b[0mqiskit\u001b[0m\u001b[0;34m.\u001b[0m\u001b[0mcircuit\u001b[0m \u001b[0;32mimport\u001b[0m \u001b[0mQuantumCircuit\u001b[0m\u001b[0;34m\u001b[0m\u001b[0;34m\u001b[0m\u001b[0m\n\u001b[0m\u001b[1;32m      6\u001b[0m \u001b[0;34m\u001b[0m\u001b[0m\n\u001b[1;32m      7\u001b[0m \u001b[0;34m\u001b[0m\u001b[0m\n",
            "\u001b[0;31mModuleNotFoundError\u001b[0m: No module named 'qiskit'",
            "",
            "\u001b[0;31m---------------------------------------------------------------------------\u001b[0;32m\nNOTE: If your import is failing due to a missing package, you can\nmanually install dependencies using either !pip or !apt.\n\nTo view examples of installing some common dependencies, click the\n\"Open Examples\" button below.\n\u001b[0;31m---------------------------------------------------------------------------\u001b[0m\n"
          ],
          "errorDetails": {
            "actions": [
              {
                "action": "open_url",
                "actionText": "Open Examples",
                "url": "/notebooks/snippets/importing_libraries.ipynb"
              }
            ]
          }
        }
      ]
    },
    {
      "cell_type": "code",
      "source": [
        "A = BernoulliA(p)\n",
        "Q = BernoulliQ(p)"
      ],
      "metadata": {
        "id": "2Rh18LSOrL09"
      },
      "execution_count": null,
      "outputs": []
    },
    {
      "cell_type": "code",
      "source": [
        "from qiskit.algorithms import EstimationProblem\n",
        "\n",
        "problem = EstimationProblem(\n",
        "    state_preparation=A,  # A operator\n",
        "    grover_operator=Q,  # Q operator\n",
        "    objective_qubits=[0],  # the \"good\" state Psi1 is identified as measuring |1> in qubit 0\n",
        ")"
      ],
      "metadata": {
        "id": "dMsUF4r9rQ1y"
      },
      "execution_count": null,
      "outputs": []
    },
    {
      "cell_type": "code",
      "source": [
        "from qiskit import BasicAer\n",
        "from qiskit.utils import QuantumInstance\n",
        "\n",
        "backend = BasicAer.get_backend(\"statevector_simulator\")\n",
        "quantum_instance = QuantumInstance(backend)"
      ],
      "metadata": {
        "id": "ldHatVk2rVTA"
      },
      "execution_count": null,
      "outputs": []
    },
    {
      "cell_type": "code",
      "source": [
        "from qiskit.algorithms import AmplitudeEstimation\n",
        "\n",
        "ae = AmplitudeEstimation(\n",
        "    num_eval_qubits=3,  # the number of evaluation qubits specifies circuit width and accuracy\n",
        "    quantum_instance=quantum_instance,\n",
        ")"
      ],
      "metadata": {
        "id": "VcXMO9bRrcsc"
      },
      "execution_count": null,
      "outputs": []
    },
    {
      "cell_type": "code",
      "source": [
        "ae_result = ae.estimate(problem)"
      ],
      "metadata": {
        "id": "z5O7UAX1rfsY"
      },
      "execution_count": null,
      "outputs": []
    },
    {
      "cell_type": "code",
      "source": [
        "print(ae_result.estimation)"
      ],
      "metadata": {
        "colab": {
          "base_uri": "https://localhost:8080/"
        },
        "id": "J8Fq5GsTrjFv",
        "outputId": "4ec0d138-d6a3-4fbc-8825-bd0ec1a91f1a"
      },
      "execution_count": null,
      "outputs": [
        {
          "output_type": "stream",
          "name": "stdout",
          "text": [
            "0.1464466\n"
          ]
        }
      ]
    },
    {
      "cell_type": "code",
      "source": [
        "import matplotlib.pyplot as plt\n",
        "\n",
        "# plot estimated values\n",
        "gridpoints = list(ae_result.samples.keys())\n",
        "probabilities = list(ae_result.samples.values())\n",
        "\n",
        "plt.bar(gridpoints, probabilities, width=0.5 / len(probabilities))\n",
        "plt.axvline(p, color=\"r\", ls=\"--\")\n",
        "plt.xticks(size=15)\n",
        "plt.yticks([0, 0.25, 0.5, 0.75, 1], size=15)\n",
        "plt.title(\"Estimated Values\", size=15)\n",
        "plt.ylabel(\"Probability\", size=15)\n",
        "plt.xlabel(r\"Amplitude $a$\", size=15)\n",
        "plt.ylim((0, 1))\n",
        "plt.grid()\n",
        "plt.show()"
      ],
      "metadata": {
        "colab": {
          "base_uri": "https://localhost:8080/",
          "height": 311
        },
        "id": "KOIgVL7frmBy",
        "outputId": "1a3e535b-97ab-4282-81f5-7042ec8fd6ee"
      },
      "execution_count": null,
      "outputs": [
        {
          "output_type": "display_data",
          "data": {
            "image/png": "[encoded data removed]",
            "text/plain": [
              "<Figure size 432x288 with 1 Axes>"
            ]
          },
          "metadata": {
            "needs_background": "light"
          }
        }
      ]
    },
    {
      "cell_type": "code",
      "source": [
        "print(\"Interpolated MLE estimator:\", ae_result.mle)"
      ],
      "metadata": {
        "colab": {
          "base_uri": "https://localhost:8080/"
        },
        "id": "cW-zadPHrsI9",
        "outputId": "5bf9d28a-da0e-4529-cfa3-1f109bc39fd6"
      },
      "execution_count": null,
      "outputs": [
        {
          "output_type": "stream",
          "name": "stdout",
          "text": [
            "Interpolated MLE estimator: 0.19999999390907777\n"
          ]
        }
      ]
    },
    {
      "cell_type": "code",
      "source": [
        "!pip install pylatexenc\n"
      ],
      "metadata": {
        "colab": {
          "base_uri": "https://localhost:8080/"
        },
        "id": "4ImSlC7NulY3",
        "outputId": "2e310762-9d05-494e-bd07-4f59ead74560"
      },
      "execution_count": null,
      "outputs": [
        {
          "output_type": "stream",
          "name": "stdout",
          "text": [
            "Collecting pylatexenc\n",
            "  Downloading pylatexenc-2.10.tar.gz (162 kB)\n",
            "\u001b[K     |████████████████████████████████| 162 kB 5.1 MB/s \n",
            "\u001b[?25hBuilding wheels for collected packages: pylatexenc\n",
            "  Building wheel for pylatexenc (setup.py) ... \u001b[?25l\u001b[?25hdone\n",
            "  Created wheel for pylatexenc: filename=pylatexenc-2.10-py3-none-any.whl size=136835 sha256=8f7df50b0b66deed632fc3bf8750318e1c56a0a44a45a63b425a8814f877bb5a\n",
            "  Stored in directory: /root/.cache/pip/wheels/f1/8a/f5/33ee79d4473eb201b519fa40f989b842e373237395a3421f52\n",
            "Successfully built pylatexenc\n",
            "Installing collected packages: pylatexenc\n",
            "Successfully installed pylatexenc-2.10\n"
          ]
        }
      ]
    },
    {
      "cell_type": "code",
      "source": [
        "ae_circuit = ae.construct_circuit(problem)\n",
        "ae_circuit.draw()  # decompose 1 level: exposes the Phase estimation circuit!"
      ],
      "metadata": {
        "colab": {
          "base_uri": "https://localhost:8080/",
          "height": 156
        },
        "id": "W0o6sqZOruMK",
        "outputId": "4cd2abc5-5974-4032-d3e6-eaabf6d2fecb"
      },
      "execution_count": null,
      "outputs": [
        {
          "output_type": "execute_result",
          "data": {
            "text/html": [
              "<pre style=\"word-wrap: normal;white-space: pre;background: #fff0;line-height: 1.1;font-family: &quot;Courier New&quot;,Courier,monospace\">                      ┌──────┐\n",
              "eval_0: ──────────────┤0     ├\n",
              "                      │      │\n",
              "eval_1: ──────────────┤1     ├\n",
              "                      │  QPE │\n",
              "eval_2: ──────────────┤2     ├\n",
              "        ┌────────────┐│      │\n",
              "     q: ┤ Ry(0.9273) ├┤3     ├\n",
              "        └────────────┘└──────┘</pre>"
            ],
            "text/plain": [
              "                      ┌──────┐\n",
              "eval_0: ──────────────┤0     ├\n",
              "                      │      │\n",
              "eval_1: ──────────────┤1     ├\n",
              "                      │  QPE │\n",
              "eval_2: ──────────────┤2     ├\n",
              "        ┌────────────┐│      │\n",
              "     q: ┤ Ry(0.9273) ├┤3     ├\n",
              "        └────────────┘└──────┘"
            ]
          },
          "metadata": {},
          "execution_count": 17
        }
      ]
    },
    {
      "cell_type": "code",
      "source": [
        "from qiskit import transpile\n",
        "\n",
        "\n",
        "basis_gates = [\"h\", \"ry\", \"cry\", \"cx\", \"ccx\", \"p\", \"cp\", \"x\", \"s\", \"sdg\", \"y\", \"t\", \"cz\"]\n",
        "transpile(ae_circuit, basis_gates=basis_gates, optimization_level=2).draw()"
      ],
      "metadata": {
        "colab": {
          "base_uri": "https://localhost:8080/",
          "height": 1000
        },
        "id": "CPT0Yd5rrwZN",
        "outputId": "44487b07-cdd1-42ed-a642-01db64449185"
      },
      "execution_count": null,
      "outputs": [
        {
          "output_type": "execute_result",
          "data": {
            "text/html": [
              "<pre style=\"word-wrap: normal;white-space: pre;background: #fff0;line-height: 1.1;font-family: &quot;Courier New&quot;,Courier,monospace\">            ┌───┐     ┌──────┐                                               »\n",
              "eval_0: ────┤ H ├─────┤ P(0) ├──■────────────────────────────────────────────»\n",
              "            ├───┤     ├──────┤  │                                            »\n",
              "eval_1: ────┤ H ├─────┤ P(0) ├──┼────────────────────────────────────────────»\n",
              "            ├───┤     ├──────┤  │                                            »\n",
              "eval_2: ────┤ H ├─────┤ P(0) ├──┼────────────────────────────────────────────»\n",
              "        ┌───┴───┴────┐└──────┘┌─┴─┐┌─────┐┌───┐┌─────┐┌─────────────────────┐»\n",
              "     q: ┤ Ry(0.9273) ├────────┤ X ├┤ Sdg ├┤ H ├┤ Sdg ├┤ P(2.21429743558818) ├»\n",
              "        └────────────┘        └───┘└─────┘└───┘└─────┘└─────────────────────┘»\n",
              "«                                                                    »\n",
              "«eval_0: ──────────────────────────────■─────────────────────────────»\n",
              "«                                      │                             »\n",
              "«eval_1: ──────────────────────────────┼─────────────────────────────»\n",
              "«                                      │                             »\n",
              "«eval_2: ──────────────────────────────┼─────────────────────────────»\n",
              "«        ┌─────┐┌───┐┌─────┐┌───────┐┌─┴─┐┌──────┐┌─────┐┌───┐┌─────┐»\n",
              "«     q: ┤ Sdg ├┤ H ├┤ Sdg ├┤ P(3π) ├┤ X ├┤ P(0) ├┤ Sdg ├┤ H ├┤ Sdg ├»\n",
              "«        └─────┘└───┘└─────┘└───────┘└───┘└──────┘└─────┘└───┘└─────┘»\n",
              "«                                                                            »\n",
              "«eval_0: ────────────────────────────────────────────────────────────────────»\n",
              "«                                                                            »\n",
              "«eval_1: ─────────────────────────────────────────────────────■──────────────»\n",
              "«                                                             │              »\n",
              "«eval_2: ─────────────────────────────────────────────────────┼──────────────»\n",
              "«        ┌─────────────────────┐┌─────┐┌───┐┌─────┐┌───────┐┌─┴─┐┌─────┐┌───┐»\n",
              "«     q: ┤ P(4.06888787159141) ├┤ Sdg ├┤ H ├┤ Sdg ├┤ P(3π) ├┤ X ├┤ Sdg ├┤ H ├»\n",
              "«        └─────────────────────┘└─────┘└───┘└─────┘└───────┘└───┘└─────┘└───┘»\n",
              "«                                                                       »\n",
              "«eval_0: ───────────────────────────────────────────────────────────────»\n",
              "«                                                                       »\n",
              "«eval_1: ────────────────────────────────────────────────────────────■──»\n",
              "«                                                                    │  »\n",
              "«eval_2: ────────────────────────────────────────────────────────────┼──»\n",
              "«        ┌─────┐┌─────────────────────┐┌─────┐┌───┐┌─────┐┌───────┐┌─┴─┐»\n",
              "«     q: ┤ Sdg ├┤ P(1.28700221758657) ├┤ Sdg ├┤ H ├┤ Sdg ├┤ P(3π) ├┤ X ├»\n",
              "«        └─────┘└─────────────────────┘└─────┘└───┘└─────┘└───────┘└───┘»\n",
              "«                                                                             »\n",
              "«eval_0: ─────────────────────────────────────────────────────────────────────»\n",
              "«                                                                             »\n",
              "«eval_1: ─────────────────────────────────────────────────────────────────────»\n",
              "«                                                                             »\n",
              "«eval_2: ─────────────────────────────────────────────────────────────────────»\n",
              "«        ┌──────┐┌─────┐┌───┐┌─────┐┌─────────────────────┐┌─────┐┌───┐┌─────┐»\n",
              "«     q: ┤ P(0) ├┤ Sdg ├┤ H ├┤ Sdg ├┤ P(4.99618308959302) ├┤ Sdg ├┤ H ├┤ Sdg ├»\n",
              "«        └──────┘└─────┘└───┘└─────┘└─────────────────────┘└─────┘└───┘└─────┘»\n",
              "«                                                                              »\n",
              "«eval_0: ──────────────────────────────────────────────────────────────────────»\n",
              "«                                                                              »\n",
              "«eval_1: ──────────────────────────────────────────────────────────────────────»\n",
              "«                                                                              »\n",
              "«eval_2: ───────────■──────────────────────────────────────────────────────────»\n",
              "«        ┌───────┐┌─┴─┐┌─────┐┌───┐┌─────┐┌───────────────────────┐┌─────┐┌───┐»\n",
              "«     q: ┤ P(3π) ├┤ X ├┤ Sdg ├┤ H ├┤ Sdg ├┤ P(-0.567588218416656) ├┤ Sdg ├┤ H ├»\n",
              "«        └───────┘└───┘└─────┘└───┘└─────┘└───────────────────────┘└─────┘└───┘»\n",
              "«                                                                »\n",
              "«eval_0: ────────────────────────────────────────■───────────────»\n",
              "«                                                │         ┌───┐ »\n",
              "«eval_1: ──────────────────────────────■─────────┼─────────┤ H ├─»\n",
              "«                              ┌───┐   │P(-π/2)  │P(-π/4)  └───┘ »\n",
              "«eval_2: ──────────────────■───┤ H ├───■─────────■───────────────»\n",
              "«        ┌─────┐┌───────┐┌─┴─┐┌┴───┴─┐ ┌─────┐    ┌───┐   ┌─────┐»\n",
              "«     q: ┤ Sdg ├┤ P(3π) ├┤ X ├┤ P(0) ├─┤ Sdg ├────┤ H ├───┤ Sdg ├»\n",
              "«        └─────┘└───────┘└───┘└──────┘ └─────┘    └───┘   └─────┘»\n",
              "«                                ┌───┐                      \n",
              "«eval_0: ────────■───────────────┤ H ├──────────────────────\n",
              "«                │P(-π/2)        └───┘                      \n",
              "«eval_1: ────────■──────────────────────────────────────────\n",
              "«                                                           \n",
              "«eval_2: ───────────────────────────────────────────────────\n",
              "«        ┌─────────────────────┐┌─────┐┌───┐┌─────┐┌───────┐\n",
              "«     q: ┤ P(6.85077352559624) ├┤ Sdg ├┤ H ├┤ Sdg ├┤ P(3π) ├\n",
              "«        └─────────────────────┘└─────┘└───┘└─────┘└───────┘</pre>"
            ],
            "text/plain": [
              "            ┌───┐     ┌──────┐                                               »\n",
              "eval_0: ────┤ H ├─────┤ P(0) ├──■────────────────────────────────────────────»\n",
              "            ├───┤     ├──────┤  │                                            »\n",
              "eval_1: ────┤ H ├─────┤ P(0) ├──┼────────────────────────────────────────────»\n",
              "            ├───┤     ├──────┤  │                                            »\n",
              "eval_2: ────┤ H ├─────┤ P(0) ├──┼────────────────────────────────────────────»\n",
              "        ┌───┴───┴────┐└──────┘┌─┴─┐┌─────┐┌───┐┌─────┐┌─────────────────────┐»\n",
              "     q: ┤ Ry(0.9273) ├────────┤ X ├┤ Sdg ├┤ H ├┤ Sdg ├┤ P(2.21429743558818) ├»\n",
              "        └────────────┘        └───┘└─────┘└───┘└─────┘└─────────────────────┘»\n",
              "«                                                                    »\n",
              "«eval_0: ──────────────────────────────■─────────────────────────────»\n",
              "«                                      │                             »\n",
              "«eval_1: ──────────────────────────────┼─────────────────────────────»\n",
              "«                                      │                             »\n",
              "«eval_2: ──────────────────────────────┼─────────────────────────────»\n",
              "«        ┌─────┐┌───┐┌─────┐┌───────┐┌─┴─┐┌──────┐┌─────┐┌───┐┌─────┐»\n",
              "«     q: ┤ Sdg ├┤ H ├┤ Sdg ├┤ P(3π) ├┤ X ├┤ P(0) ├┤ Sdg ├┤ H ├┤ Sdg ├»\n",
              "«        └─────┘└───┘└─────┘└───────┘└───┘└──────┘└─────┘└───┘└─────┘»\n",
              "«                                                                            »\n",
              "«eval_0: ────────────────────────────────────────────────────────────────────»\n",
              "«                                                                            »\n",
              "«eval_1: ─────────────────────────────────────────────────────■──────────────»\n",
              "«                                                             │              »\n",
              "«eval_2: ─────────────────────────────────────────────────────┼──────────────»\n",
              "«        ┌─────────────────────┐┌─────┐┌───┐┌─────┐┌───────┐┌─┴─┐┌─────┐┌───┐»\n",
              "«     q: ┤ P(4.06888787159141) ├┤ Sdg ├┤ H ├┤ Sdg ├┤ P(3π) ├┤ X ├┤ Sdg ├┤ H ├»\n",
              "«        └─────────────────────┘└─────┘└───┘└─────┘└───────┘└───┘└─────┘└───┘»\n",
              "«                                                                       »\n",
              "«eval_0: ───────────────────────────────────────────────────────────────»\n",
              "«                                                                       »\n",
              "«eval_1: ────────────────────────────────────────────────────────────■──»\n",
              "«                                                                    │  »\n",
              "«eval_2: ────────────────────────────────────────────────────────────┼──»\n",
              "«        ┌─────┐┌─────────────────────┐┌─────┐┌───┐┌─────┐┌───────┐┌─┴─┐»\n",
              "«     q: ┤ Sdg ├┤ P(1.28700221758657) ├┤ Sdg ├┤ H ├┤ Sdg ├┤ P(3π) ├┤ X ├»\n",
              "«        └─────┘└─────────────────────┘└─────┘└───┘└─────┘└───────┘└───┘»\n",
              "«                                                                             »\n",
              "«eval_0: ─────────────────────────────────────────────────────────────────────»\n",
              "«                                                                             »\n",
              "«eval_1: ─────────────────────────────────────────────────────────────────────»\n",
              "«                                                                             »\n",
              "«eval_2: ─────────────────────────────────────────────────────────────────────»\n",
              "«        ┌──────┐┌─────┐┌───┐┌─────┐┌─────────────────────┐┌─────┐┌───┐┌─────┐»\n",
              "«     q: ┤ P(0) ├┤ Sdg ├┤ H ├┤ Sdg ├┤ P(4.99618308959302) ├┤ Sdg ├┤ H ├┤ Sdg ├»\n",
              "«        └──────┘└─────┘└───┘└─────┘└─────────────────────┘└─────┘└───┘└─────┘»\n",
              "«                                                                              »\n",
              "«eval_0: ──────────────────────────────────────────────────────────────────────»\n",
              "«                                                                              »\n",
              "«eval_1: ──────────────────────────────────────────────────────────────────────»\n",
              "«                                                                              »\n",
              "«eval_2: ───────────■──────────────────────────────────────────────────────────»\n",
              "«        ┌───────┐┌─┴─┐┌─────┐┌───┐┌─────┐┌───────────────────────┐┌─────┐┌───┐»\n",
              "«     q: ┤ P(3π) ├┤ X ├┤ Sdg ├┤ H ├┤ Sdg ├┤ P(-0.567588218416656) ├┤ Sdg ├┤ H ├»\n",
              "«        └───────┘└───┘└─────┘└───┘└─────┘└───────────────────────┘└─────┘└───┘»\n",
              "«                                                                »\n",
              "«eval_0: ────────────────────────────────────────■───────────────»\n",
              "«                                                │         ┌───┐ »\n",
              "«eval_1: ──────────────────────────────■─────────┼─────────┤ H ├─»\n",
              "«                              ┌───┐   │P(-π/2)  │P(-π/4)  └───┘ »\n",
              "«eval_2: ──────────────────■───┤ H ├───■─────────■───────────────»\n",
              "«        ┌─────┐┌───────┐┌─┴─┐┌┴───┴─┐ ┌─────┐    ┌───┐   ┌─────┐»\n",
              "«     q: ┤ Sdg ├┤ P(3π) ├┤ X ├┤ P(0) ├─┤ Sdg ├────┤ H ├───┤ Sdg ├»\n",
              "«        └─────┘└───────┘└───┘└──────┘ └─────┘    └───┘   └─────┘»\n",
              "«                                ┌───┐                      \n",
              "«eval_0: ────────■───────────────┤ H ├──────────────────────\n",
              "«                │P(-π/2)        └───┘                      \n",
              "«eval_1: ────────■──────────────────────────────────────────\n",
              "«                                                           \n",
              "«eval_2: ───────────────────────────────────────────────────\n",
              "«        ┌─────────────────────┐┌─────┐┌───┐┌─────┐┌───────┐\n",
              "«     q: ┤ P(6.85077352559624) ├┤ Sdg ├┤ H ├┤ Sdg ├┤ P(3π) ├\n",
              "«        └─────────────────────┘└─────┘└───┘└─────┘└───────┘"
            ]
          },
          "metadata": {},
          "execution_count": 18
        }
      ]
    }
  ]
}