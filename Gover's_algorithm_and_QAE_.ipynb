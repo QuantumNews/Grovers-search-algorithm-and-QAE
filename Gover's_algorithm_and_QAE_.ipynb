{
  "nbformat": 4,
  "nbformat_minor": 0,
  "metadata": {
    "colab": {
      "name": "Gover's algorithm and QAE .ipynb",
      "provenance": [],
      "collapsed_sections": [],
      "authorship_tag": "ABX9TyM3RmO+XWGIOHHGzlY7iL4L",
      "include_colab_link": true
    },
    "kernelspec": {
      "name": "python3",
      "display_name": "Python 3"
    },
    "language_info": {
      "name": "python"
    }
  },
  "cells": [
    {
      "cell_type": "markdown",
      "metadata": {
        "id": "view-in-github",
        "colab_type": "text"
      },
      "source": [
        "<a href=\"https://colab.research.google.com/github/QuantumNews/Grovers-search-algorithm-and-QAE/blob/main2/Gover's_algorithm_and_QAE_.ipynb\" target=\"_parent\"><img src=\"https://colab.research.google.com/assets/colab-badge.svg\" alt=\"Open In Colab\"/></a>"
      ]
    },
    {
      "cell_type": "code",
      "execution_count": null,
      "metadata": {
        "id": "1M7_djkYrfdP",
        "colab": {
          "base_uri": "https://localhost:8080/"
        },
        "outputId": "3e31c564-6888-4d8b-d37a-e4af01751661"
      },
      "outputs": [
        {
          "output_type": "stream",
          "name": "stdout",
          "text": [
            "Collecting qiskit\n",
            "  Downloading qiskit-0.35.0.tar.gz (13 kB)\n",
            "Collecting qiskit-terra==0.20.0\n",
            "  Downloading qiskit_terra-0.20.0-cp37-cp37m-manylinux_2_17_x86_64.manylinux2014_x86_64.whl (6.5 MB)\n",
            "\u001b[K     |████████████████████████████████| 6.5 MB 4.5 MB/s \n",
            "\u001b[?25hCollecting qiskit-aer==0.10.3\n",
            "  Downloading qiskit_aer-0.10.3-cp37-cp37m-manylinux_2_12_x86_64.manylinux2010_x86_64.whl (18.0 MB)\n",
            "\u001b[K     |████████████████████████████████| 18.0 MB 90 kB/s \n",
            "\u001b[?25hCollecting qiskit-ibmq-provider==0.18.3\n",
            "  Downloading qiskit_ibmq_provider-0.18.3-py3-none-any.whl (238 kB)\n",
            "\u001b[K     |████████████████████████████████| 238 kB 70.8 MB/s \n",
            "\u001b[?25hCollecting qiskit-ignis==0.7.0\n",
            "  Downloading qiskit_ignis-0.7.0-py3-none-any.whl (200 kB)\n",
            "\u001b[K     |████████████████████████████████| 200 kB 63.2 MB/s \n",
            "\u001b[?25hRequirement already satisfied: scipy>=1.0 in /usr/local/lib/python3.7/dist-packages (from qiskit-aer==0.10.3->qiskit) (1.4.1)\n",
            "Requirement already satisfied: numpy>=1.16.3 in /usr/local/lib/python3.7/dist-packages (from qiskit-aer==0.10.3->qiskit) (1.21.5)\n",
            "Requirement already satisfied: requests>=2.19 in /usr/local/lib/python3.7/dist-packages (from qiskit-ibmq-provider==0.18.3->qiskit) (2.23.0)\n",
            "Collecting requests-ntlm>=1.1.0\n",
            "  Downloading requests_ntlm-1.1.0-py2.py3-none-any.whl (5.7 kB)\n",
            "Requirement already satisfied: python-dateutil>=2.8.0 in /usr/local/lib/python3.7/dist-packages (from qiskit-ibmq-provider==0.18.3->qiskit) (2.8.2)\n",
            "Requirement already satisfied: urllib3>=1.21.1 in /usr/local/lib/python3.7/dist-packages (from qiskit-ibmq-provider==0.18.3->qiskit) (1.24.3)\n",
            "Collecting websocket-client>=1.0.1\n",
            "  Downloading websocket_client-1.3.2-py3-none-any.whl (54 kB)\n",
            "\u001b[K     |████████████████████████████████| 54 kB 2.5 MB/s \n",
            "\u001b[?25hRequirement already satisfied: setuptools>=40.1.0 in /usr/local/lib/python3.7/dist-packages (from qiskit-ignis==0.7.0->qiskit) (57.4.0)\n",
            "Collecting retworkx>=0.8.0\n",
            "  Downloading retworkx-0.11.0-cp37-cp37m-manylinux_2_5_x86_64.manylinux1_x86_64.manylinux_2_12_x86_64.manylinux2010_x86_64.whl (1.6 MB)\n",
            "\u001b[K     |████████████████████████████████| 1.6 MB 48.4 MB/s \n",
            "\u001b[?25hRequirement already satisfied: sympy>=1.3 in /usr/local/lib/python3.7/dist-packages (from qiskit-terra==0.20.0->qiskit) (1.7.1)\n",
            "Requirement already satisfied: psutil>=5 in /usr/local/lib/python3.7/dist-packages (from qiskit-terra==0.20.0->qiskit) (5.4.8)\n",
            "Collecting python-constraint>=1.4\n",
            "  Downloading python-constraint-1.4.0.tar.bz2 (18 kB)\n",
            "Collecting stevedore>=3.0.0\n",
            "  Downloading stevedore-3.5.0-py3-none-any.whl (49 kB)\n",
            "\u001b[K     |████████████████████████████████| 49 kB 6.2 MB/s \n",
            "\u001b[?25hCollecting symengine>=0.9\n",
            "  Downloading symengine-0.9.2-cp37-cp37m-manylinux2010_x86_64.whl (37.5 MB)\n",
            "\u001b[K     |████████████████████████████████| 37.5 MB 1.1 MB/s \n",
            "\u001b[?25hRequirement already satisfied: dill>=0.3 in /usr/local/lib/python3.7/dist-packages (from qiskit-terra==0.20.0->qiskit) (0.3.4)\n",
            "Collecting ply>=3.10\n",
            "  Downloading ply-3.11-py2.py3-none-any.whl (49 kB)\n",
            "\u001b[K     |████████████████████████████████| 49 kB 5.9 MB/s \n",
            "\u001b[?25hCollecting scipy>=1.0\n",
            "  Downloading scipy-1.7.3-cp37-cp37m-manylinux_2_12_x86_64.manylinux2010_x86_64.whl (38.1 MB)\n",
            "\u001b[K     |████████████████████████████████| 38.1 MB 1.1 MB/s \n",
            "\u001b[?25hCollecting tweedledum<2.0,>=1.1\n",
            "  Downloading tweedledum-1.1.1-cp37-cp37m-manylinux_2_12_x86_64.manylinux2010_x86_64.whl (943 kB)\n",
            "\u001b[K     |████████████████████████████████| 943 kB 55.9 MB/s \n",
            "\u001b[?25hRequirement already satisfied: six>=1.5 in /usr/local/lib/python3.7/dist-packages (from python-dateutil>=2.8.0->qiskit-ibmq-provider==0.18.3->qiskit) (1.15.0)\n",
            "Requirement already satisfied: chardet<4,>=3.0.2 in /usr/local/lib/python3.7/dist-packages (from requests>=2.19->qiskit-ibmq-provider==0.18.3->qiskit) (3.0.4)\n",
            "Requirement already satisfied: idna<3,>=2.5 in /usr/local/lib/python3.7/dist-packages (from requests>=2.19->qiskit-ibmq-provider==0.18.3->qiskit) (2.10)\n",
            "Requirement already satisfied: certifi>=2017.4.17 in /usr/local/lib/python3.7/dist-packages (from requests>=2.19->qiskit-ibmq-provider==0.18.3->qiskit) (2021.10.8)\n",
            "Collecting cryptography>=1.3\n",
            "  Downloading cryptography-36.0.2-cp36-abi3-manylinux_2_24_x86_64.whl (3.6 MB)\n",
            "\u001b[K     |████████████████████████████████| 3.6 MB 44.9 MB/s \n",
            "\u001b[?25hCollecting ntlm-auth>=1.0.2\n",
            "  Downloading ntlm_auth-1.5.0-py2.py3-none-any.whl (29 kB)\n",
            "Requirement already satisfied: cffi>=1.12 in /usr/local/lib/python3.7/dist-packages (from cryptography>=1.3->requests-ntlm>=1.1.0->qiskit-ibmq-provider==0.18.3->qiskit) (1.15.0)\n",
            "Requirement already satisfied: pycparser in /usr/local/lib/python3.7/dist-packages (from cffi>=1.12->cryptography>=1.3->requests-ntlm>=1.1.0->qiskit-ibmq-provider==0.18.3->qiskit) (2.21)\n",
            "Requirement already satisfied: importlib-metadata>=1.7.0 in /usr/local/lib/python3.7/dist-packages (from stevedore>=3.0.0->qiskit-terra==0.20.0->qiskit) (4.11.3)\n",
            "Collecting pbr!=2.1.0,>=2.0.0\n",
            "  Downloading pbr-5.8.1-py2.py3-none-any.whl (113 kB)\n",
            "\u001b[K     |████████████████████████████████| 113 kB 51.8 MB/s \n",
            "\u001b[?25hRequirement already satisfied: zipp>=0.5 in /usr/local/lib/python3.7/dist-packages (from importlib-metadata>=1.7.0->stevedore>=3.0.0->qiskit-terra==0.20.0->qiskit) (3.7.0)\n",
            "Requirement already satisfied: typing-extensions>=3.6.4 in /usr/local/lib/python3.7/dist-packages (from importlib-metadata>=1.7.0->stevedore>=3.0.0->qiskit-terra==0.20.0->qiskit) (3.10.0.2)\n",
            "Requirement already satisfied: mpmath>=0.19 in /usr/local/lib/python3.7/dist-packages (from sympy>=1.3->qiskit-terra==0.20.0->qiskit) (1.2.1)\n",
            "Building wheels for collected packages: qiskit, python-constraint\n",
            "  Building wheel for qiskit (setup.py) ... \u001b[?25l\u001b[?25hdone\n",
            "  Created wheel for qiskit: filename=qiskit-0.35.0-py3-none-any.whl size=11839 sha256=aeca4123b290c824f8b9611c52ef7745221f14044c89261f47264c96c1307c01\n",
            "  Stored in directory: /root/.cache/pip/wheels/1e/0a/42/93e5cc11795fb0a85fcf6686eac2791def0c9a1cad0a774045\n",
            "  Building wheel for python-constraint (setup.py) ... \u001b[?25l\u001b[?25hdone\n",
            "  Created wheel for python-constraint: filename=python_constraint-1.4.0-py2.py3-none-any.whl size=24081 sha256=709ec065e55e2a77ba2725cd97624fe21a3d598830a1fa1b1e2d64cdf6fa8195\n",
            "  Stored in directory: /root/.cache/pip/wheels/07/27/db/1222c80eb1e431f3d2199c12569cb1cac60f562a451fe30479\n",
            "Successfully built qiskit python-constraint\n",
            "Installing collected packages: pbr, tweedledum, symengine, stevedore, scipy, retworkx, python-constraint, ply, ntlm-auth, cryptography, websocket-client, requests-ntlm, qiskit-terra, qiskit-ignis, qiskit-ibmq-provider, qiskit-aer, qiskit\n",
            "  Attempting uninstall: scipy\n",
            "    Found existing installation: scipy 1.4.1\n",
            "    Uninstalling scipy-1.4.1:\n",
            "      Successfully uninstalled scipy-1.4.1\n",
            "\u001b[31mERROR: pip's dependency resolver does not currently take into account all the packages that are installed. This behaviour is the source of the following dependency conflicts.\n",
            "albumentations 0.1.12 requires imgaug<0.2.7,>=0.2.5, but you have imgaug 0.2.9 which is incompatible.\u001b[0m\n",
            "Successfully installed cryptography-36.0.2 ntlm-auth-1.5.0 pbr-5.8.1 ply-3.11 python-constraint-1.4.0 qiskit-0.35.0 qiskit-aer-0.10.3 qiskit-ibmq-provider-0.18.3 qiskit-ignis-0.7.0 qiskit-terra-0.20.0 requests-ntlm-1.1.0 retworkx-0.11.0 scipy-1.7.3 stevedore-3.5.0 symengine-0.9.2 tweedledum-1.1.1 websocket-client-1.3.2\n"
          ]
        }
      ],
      "source": [
        "\n",
        "!pip3 install qiskit"
      ]
    },
    {
      "cell_type": "markdown",
      "source": [
        "First instal Qiskit (above)\n",
        "then import some useful packages from QIskit (for circuit building and access backend) as well as numpy and pyplot for some mathemtics and visualization:"
      ],
      "metadata": {
        "id": "ryjDJ8qQWIkX"
      }
    },
    {
      "cell_type": "code",
      "source": [
        "import qiskit\n",
        "import matplotlib.pyplot as plt\n",
        "import matplotlib.axes as axes\n",
        "%matplotlib inline\n",
        "import numpy as np\n",
        "import networkx as nx\n",
        "from math import pi\n",
        "from qiskit import Aer\n",
        "from qiskit.tools.visualization import plot_histogram\n",
        "from qiskit.circuit.library import TwoLocal\n",
        "\n",
        "from qiskit import QuantumCircuit, ClassicalRegister, QuantumRegister, execute\n",
        "from qiskit.tools.visualization import circuit_drawer\n",
        "from qiskit.quantum_info import state_fidelity\n",
        "from qiskit import BasicAer\n",
        "\n",
        "%matplotlib inline\n",
        "# Importing standard Qiskit libraries and configuring account\n",
        "from qiskit import QuantumCircuit, execute, Aer, IBMQ\n",
        "from qiskit.compiler import transpile, assemble\n",
        "from qiskit.tools.jupyter import *\n",
        "from qiskit.visualization import *\n",
        "\n",
        "\n",
        "backend = BasicAer.get_backend('unitary_simulator')"
      ],
      "metadata": {
        "id": "G1TLLvdgoPBC"
      },
      "execution_count": null,
      "outputs": []
    },
    {
      "cell_type": "code",
      "source": [
        "from qiskit import *"
      ],
      "metadata": {
        "id": "LjetUnXaoUOO"
      },
      "execution_count": null,
      "outputs": []
    },
    {
      "cell_type": "code",
      "source": [
        "Here my API token gets loaded to give us access:"
      ],
      "metadata": {
        "id": "xOkjs40xV_Ll"
      },
      "execution_count": null,
      "outputs": []
    },
    {
      "cell_type": "code",
      "source": [
        "IBMQ.save_account('63af478871059f44c837562334bb53037b1591a9140852e357e30b6d30617cb79596f7e6835d571b3374e295446d6222be23ab1ac84d45817eb91a22a23c4ddd')"
      ],
      "metadata": {
        "id": "YwyyL91sobVt"
      },
      "execution_count": null,
      "outputs": []
    },
    {
      "cell_type": "code",
      "source": [
        "overwrite=True\n"
      ],
      "metadata": {
        "id": "pYTaYuraodc6"
      },
      "execution_count": null,
      "outputs": []
    },
    {
      "cell_type": "code",
      "source": [
        "IBMQ.load_account()"
      ],
      "metadata": {
        "id": "ju15rR0JoeRW",
        "colab": {
          "base_uri": "https://localhost:8080/"
        },
        "outputId": "5974742e-0704-4f37-a373-a254296a63d8"
      },
      "execution_count": null,
      "outputs": [
        {
          "output_type": "execute_result",
          "data": {
            "text/plain": [
              "<AccountProvider for IBMQ(hub='ibm-q', group='open', project='main')>"
            ]
          },
          "metadata": {},
          "execution_count": 7
        }
      ]
    },
    {
      "cell_type": "code",
      "source": [
        "from qiskit import *\n"
      ],
      "metadata": {
        "id": "mRpUso23ogsa"
      },
      "execution_count": null,
      "outputs": []
    },
    {
      "cell_type": "code",
      "source": [
        "from qiskit.providers.ibmq.exceptions import IBMQAccountCredentialsInvalidToken"
      ],
      "metadata": {
        "id": "cOf_GfmyVjcQ"
      },
      "execution_count": null,
      "outputs": []
    },
    {
      "cell_type": "markdown",
      "source": [
        "Lets take a look at a how Grovers seach algorithm works. \n",
        "\n",
        "If you have a list , classically the complexity depends on how many times you need to call the oracle, classically this means atleast N/2  to N. \n",
        "\n",
        "However, in the case of Grovers search algorithm, we can reduce the complexity scaling to O(SQRT_N). This is the quadratic speedup promised by QAE.\n",
        "\n",
        "Grover's aalgorithm has two main components. the first is the oracle, which qeuaries an input state to assertain whether it is the required or expected value, and secondly a reflection operator. The reflection operator is the compoenet that amplifies the amplitude of a specific state:\n",
        "\n"
      ],
      "metadata": {
        "id": "C95SwfzuU1dh"
      }
    },
    {
      "cell_type": "markdown",
      "source": [
        "The oracle:\n",
        "This is some fucntion/gate that flips the sign of the winning state so that we can identify when we have found it. \n",
        "so for exsample, if we have two qubits, we can have the following combinations of vector outputs:\n",
        "\n",
        "00\n",
        "01\n",
        "10\n",
        "11\n",
        "\n",
        "and oracle acting on this vector scpae would leave the same except for the final state (11), which would be flipped to give (-11). \n",
        "Luckly this is simple for a 2 qubit system where the control Z gate would do just this:"
      ],
      "metadata": {
        "id": "Ou-ZBbERXnPd"
      }
    },
    {
      "cell_type": "code",
      "source": [
        "#define the oracle circuit\n",
        "oracle = QuantumCircuit(2,name ='oracle')\n",
        "oracle.cz(0,1)\n",
        "oracle.to_gate()\n",
        "oracle.draw()"
      ],
      "metadata": {
        "colab": {
          "base_uri": "https://localhost:8080/",
          "height": 94
        },
        "id": "EbWXepBCWKfp",
        "outputId": "c6ad9df0-d5c7-4e39-f75f-feb1de5d8768"
      },
      "execution_count": null,
      "outputs": [
        {
          "output_type": "execute_result",
          "data": {
            "text/plain": [
              "        \n",
              "q_0: ─■─\n",
              "      │ \n",
              "q_1: ─■─\n",
              "        "
            ],
            "text/html": [
              "<pre style=\"word-wrap: normal;white-space: pre;background: #fff0;line-height: 1.1;font-family: &quot;Courier New&quot;,Courier,monospace\">        \n",
              "q_0: ─■─\n",
              "      │ \n",
              "q_1: ─■─\n",
              "        </pre>"
            ]
          },
          "metadata": {},
          "execution_count": 10
        }
      ]
    },
    {
      "cell_type": "markdown",
      "source": [
        "SO lets check this by simply adding a superposition with a Haddamard gate, followed by the CZ gate (oracle):"
      ],
      "metadata": {
        "id": "m2-_0zksYbYS"
      }
    },
    {
      "cell_type": "code",
      "source": [
        "backend = Aer.get_backend('statevector_simulator')\n",
        "grover_circ = QuantumCircuit(2,2)\n",
        "grover_circ.h([0,1])\n",
        "grover_circ.append(oracle,[0,1])"
      ],
      "metadata": {
        "colab": {
          "base_uri": "https://localhost:8080/"
        },
        "id": "P-esPvgkW43Z",
        "outputId": "507f0d16-9ffa-4af4-cb2e-524c8a1e392b"
      },
      "execution_count": null,
      "outputs": [
        {
          "output_type": "execute_result",
          "data": {
            "text/plain": [
              "<qiskit.circuit.instructionset.InstructionSet at 0x7ff7b56375a0>"
            ]
          },
          "metadata": {},
          "execution_count": 11
        }
      ]
    },
    {
      "cell_type": "code",
      "source": [
        "job = execute(grover_circ,backend)\n",
        "result = job.result()\n"
      ],
      "metadata": {
        "id": "1z_OSZjaYHC_"
      },
      "execution_count": null,
      "outputs": []
    },
    {
      "cell_type": "code",
      "source": [
        "sv = result.get_statevector()\n",
        "np.around(sv,2)"
      ],
      "metadata": {
        "colab": {
          "base_uri": "https://localhost:8080/"
        },
        "id": "Yl53fWpOYXBb",
        "outputId": "f0dac59e-3c6e-42e1-8d64-350c5fcbe501"
      },
      "execution_count": null,
      "outputs": [
        {
          "output_type": "execute_result",
          "data": {
            "text/plain": [
              "array([ 0.5+0.j,  0.5+0.j,  0.5+0.j, -0.5+0.j])"
            ]
          },
          "metadata": {},
          "execution_count": 13
        }
      ]
    },
    {
      "cell_type": "markdown",
      "source": [
        "As can be seen above, the final result (i.e. vector output: 11) have been flipped (negative sign). "
      ],
      "metadata": {
        "id": "r_ymj9U6YrTn"
      }
    },
    {
      "cell_type": "code",
      "source": [
        "simulator = Aer.get_backend('qasm_simulator')\n",
        "result = execute(grover_circ, backend = simulator).result()\n",
        "from qiskit.tools.visualization import plot_histogram\n",
        "plot_histogram(result.get_counts(grover_circ))"
      ],
      "metadata": {
        "colab": {
          "base_uri": "https://localhost:8080/",
          "height": 335
        },
        "id": "0v1a_3l5Zc7c",
        "outputId": "b22f486d-232f-4646-ee76-d5c0ca9d0495"
      },
      "execution_count": null,
      "outputs": [
        {
          "output_type": "error",
          "ename": "QiskitError",
          "evalue": "ignored",
          "traceback": [
            "\u001b[0;31m---------------------------------------------------------------------------\u001b[0m",
            "\u001b[0;31mQiskitError\u001b[0m                               Traceback (most recent call last)",
            "\u001b[0;32m<ipython-input-14-eb11b29aae16>\u001b[0m in \u001b[0;36m<module>\u001b[0;34m()\u001b[0m\n\u001b[1;32m      2\u001b[0m \u001b[0mresult\u001b[0m \u001b[0;34m=\u001b[0m \u001b[0mexecute\u001b[0m\u001b[0;34m(\u001b[0m\u001b[0mgrover_circ\u001b[0m\u001b[0;34m,\u001b[0m \u001b[0mbackend\u001b[0m \u001b[0;34m=\u001b[0m \u001b[0msimulator\u001b[0m\u001b[0;34m)\u001b[0m\u001b[0;34m.\u001b[0m\u001b[0mresult\u001b[0m\u001b[0;34m(\u001b[0m\u001b[0;34m)\u001b[0m\u001b[0;34m\u001b[0m\u001b[0;34m\u001b[0m\u001b[0m\n\u001b[1;32m      3\u001b[0m \u001b[0;32mfrom\u001b[0m \u001b[0mqiskit\u001b[0m\u001b[0;34m.\u001b[0m\u001b[0mtools\u001b[0m\u001b[0;34m.\u001b[0m\u001b[0mvisualization\u001b[0m \u001b[0;32mimport\u001b[0m \u001b[0mplot_histogram\u001b[0m\u001b[0;34m\u001b[0m\u001b[0;34m\u001b[0m\u001b[0m\n\u001b[0;32m----> 4\u001b[0;31m \u001b[0mplot_histogram\u001b[0m\u001b[0;34m(\u001b[0m\u001b[0mresult\u001b[0m\u001b[0;34m.\u001b[0m\u001b[0mget_counts\u001b[0m\u001b[0;34m(\u001b[0m\u001b[0mgrover_circ\u001b[0m\u001b[0;34m)\u001b[0m\u001b[0;34m)\u001b[0m\u001b[0;34m\u001b[0m\u001b[0;34m\u001b[0m\u001b[0m\n\u001b[0m",
            "\u001b[0;32m/usr/local/lib/python3.7/dist-packages/qiskit/result/result.py\u001b[0m in \u001b[0;36mget_counts\u001b[0;34m(self, experiment)\u001b[0m\n\u001b[1;32m    298\u001b[0m                 \u001b[0mdict_list\u001b[0m\u001b[0;34m.\u001b[0m\u001b[0mappend\u001b[0m\u001b[0;34m(\u001b[0m\u001b[0mstatevector\u001b[0m\u001b[0;34m.\u001b[0m\u001b[0mStatevector\u001b[0m\u001b[0;34m(\u001b[0m\u001b[0mvec\u001b[0m\u001b[0;34m)\u001b[0m\u001b[0;34m.\u001b[0m\u001b[0mprobabilities_dict\u001b[0m\u001b[0;34m(\u001b[0m\u001b[0mdecimals\u001b[0m\u001b[0;34m=\u001b[0m\u001b[0;36m15\u001b[0m\u001b[0;34m)\u001b[0m\u001b[0;34m)\u001b[0m\u001b[0;34m\u001b[0m\u001b[0;34m\u001b[0m\u001b[0m\n\u001b[1;32m    299\u001b[0m             \u001b[0;32melse\u001b[0m\u001b[0;34m:\u001b[0m\u001b[0;34m\u001b[0m\u001b[0;34m\u001b[0m\u001b[0m\n\u001b[0;32m--> 300\u001b[0;31m                 \u001b[0;32mraise\u001b[0m \u001b[0mQiskitError\u001b[0m\u001b[0;34m(\u001b[0m\u001b[0;34mf'No counts for experiment \"{repr(key)}\"'\u001b[0m\u001b[0;34m)\u001b[0m\u001b[0;34m\u001b[0m\u001b[0;34m\u001b[0m\u001b[0m\n\u001b[0m\u001b[1;32m    301\u001b[0m \u001b[0;34m\u001b[0m\u001b[0m\n\u001b[1;32m    302\u001b[0m         \u001b[0;31m# Return first item of dict_list if size is 1\u001b[0m\u001b[0;34m\u001b[0m\u001b[0;34m\u001b[0m\u001b[0;34m\u001b[0m\u001b[0m\n",
            "\u001b[0;31mQiskitError\u001b[0m: 'No counts for experiment \"<qiskit.circuit.quantumcircuit.QuantumCircuit object at 0x7ff7b58e5810>\"'"
          ]
        }
      ]
    },
    {
      "cell_type": "markdown",
      "source": [
        "So we have seen that the oracle function works for our simoe 2 qubit circuit... now lets add the reflection operator so that we can perform amplitude amplification.\n",
        "\n",
        "As mentioned above, the reflection operator is a function/gate that acts on a specified state and tries to bringin it closer to the winner/expected state. "
      ],
      "metadata": {
        "id": "Pgsc4TVKZUKz"
      }
    },
    {
      "cell_type": "code",
      "source": [
        "reflection = QuantumCircuit(2,name= 'reflection')\n",
        "reflection.h([0,1])\n",
        "reflection.z([0,1])\n",
        "reflection.cz(0,1)\n",
        "reflection.h([0,1])\n",
        "reflection.to_gate()"
      ],
      "metadata": {
        "colab": {
          "base_uri": "https://localhost:8080/"
        },
        "id": "kNkTj9mPaUlq",
        "outputId": "9b7a72de-e18e-419a-c15a-0338fff2b81e"
      },
      "execution_count": null,
      "outputs": [
        {
          "output_type": "execute_result",
          "data": {
            "text/plain": [
              "Instruction(name='reflection', num_qubits=2, num_clbits=0, params=[])"
            ]
          },
          "metadata": {},
          "execution_count": 15
        }
      ]
    },
    {
      "cell_type": "code",
      "source": [
        "reflection.draw()\n"
      ],
      "metadata": {
        "colab": {
          "base_uri": "https://localhost:8080/",
          "height": 94
        },
        "id": "MRChuOn5a0oU",
        "outputId": "ac164255-33d2-40aa-eed6-12086a02f4df"
      },
      "execution_count": null,
      "outputs": [
        {
          "output_type": "execute_result",
          "data": {
            "text/plain": [
              "     ┌───┐┌───┐   ┌───┐\n",
              "q_0: ┤ H ├┤ Z ├─■─┤ H ├\n",
              "     ├───┤├───┤ │ ├───┤\n",
              "q_1: ┤ H ├┤ Z ├─■─┤ H ├\n",
              "     └───┘└───┘   └───┘"
            ],
            "text/html": [
              "<pre style=\"word-wrap: normal;white-space: pre;background: #fff0;line-height: 1.1;font-family: &quot;Courier New&quot;,Courier,monospace\">     ┌───┐┌───┐   ┌───┐\n",
              "q_0: ┤ H ├┤ Z ├─■─┤ H ├\n",
              "     ├───┤├───┤ │ ├───┤\n",
              "q_1: ┤ H ├┤ Z ├─■─┤ H ├\n",
              "     └───┘└───┘   └───┘</pre>"
            ]
          },
          "metadata": {},
          "execution_count": 16
        }
      ]
    },
    {
      "cell_type": "code",
      "source": [
        "backend = Aer.get_backend('qasm_simulator')\n",
        "grover_circ = QuantumCircuit(2,2)\n",
        "grover_circ.h([0,1])\n",
        "grover_circ.append(oracle,[0,1])\n",
        "grover_circ.append(reflection,[0,1])\n",
        "grover_circ.measure([0,1],[0,1])"
      ],
      "metadata": {
        "colab": {
          "base_uri": "https://localhost:8080/"
        },
        "id": "QutoJbyxbykE",
        "outputId": "d76571e4-a076-424e-978e-b4cb51de6c20"
      },
      "execution_count": null,
      "outputs": [
        {
          "output_type": "execute_result",
          "data": {
            "text/plain": [
              "<qiskit.circuit.instructionset.InstructionSet at 0x7ff7ae3b9960>"
            ]
          },
          "metadata": {},
          "execution_count": 17
        }
      ]
    },
    {
      "cell_type": "code",
      "source": [
        "grover_circ.draw()"
      ],
      "metadata": {
        "colab": {
          "base_uri": "https://localhost:8080/",
          "height": 124
        },
        "id": "N4FqwLoTc1pT",
        "outputId": "a3ba1c9b-32a0-46c1-acee-a2f5e69d4a8e"
      },
      "execution_count": null,
      "outputs": [
        {
          "output_type": "execute_result",
          "data": {
            "text/plain": [
              "     ┌───┐┌─────────┐┌─────────────┐┌─┐   \n",
              "q_0: ┤ H ├┤0        ├┤0            ├┤M├───\n",
              "     ├───┤│  oracle ││  reflection │└╥┘┌─┐\n",
              "q_1: ┤ H ├┤1        ├┤1            ├─╫─┤M├\n",
              "     └───┘└─────────┘└─────────────┘ ║ └╥┘\n",
              "c: 2/════════════════════════════════╩══╩═\n",
              "                                     0  1 "
            ],
            "text/html": [
              "<pre style=\"word-wrap: normal;white-space: pre;background: #fff0;line-height: 1.1;font-family: &quot;Courier New&quot;,Courier,monospace\">     ┌───┐┌─────────┐┌─────────────┐┌─┐   \n",
              "q_0: ┤ H ├┤0        ├┤0            ├┤M├───\n",
              "     ├───┤│  oracle ││  reflection │└╥┘┌─┐\n",
              "q_1: ┤ H ├┤1        ├┤1            ├─╫─┤M├\n",
              "     └───┘└─────────┘└─────────────┘ ║ └╥┘\n",
              "c: 2/════════════════════════════════╩══╩═\n",
              "                                     0  1 </pre>"
            ]
          },
          "metadata": {},
          "execution_count": 18
        }
      ]
    },
    {
      "cell_type": "code",
      "source": [
        "job=execute(grover_circ,backend,shots=1)\n",
        "result=job.result()\n",
        "result.get_counts()"
      ],
      "metadata": {
        "colab": {
          "base_uri": "https://localhost:8080/"
        },
        "id": "jF0vNVHXdJO7",
        "outputId": "6279734a-d919-4f4c-82bb-19159ef6c328"
      },
      "execution_count": null,
      "outputs": [
        {
          "output_type": "execute_result",
          "data": {
            "text/plain": [
              "{'11': 1}"
            ]
          },
          "metadata": {},
          "execution_count": 20
        }
      ]
    },
    {
      "cell_type": "markdown",
      "source": [
        "As we see, we get the expected winner state 11 with just a single shot! remember that the complextity scales like O(sqrt_N)."
      ],
      "metadata": {
        "id": "tPdgdQ2ocXxP"
      }
    }
  ]
}